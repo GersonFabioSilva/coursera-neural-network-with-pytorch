{
  "cells": [
    {
      "cell_type": "markdown",
      "metadata": {
        "id": "view-in-github",
        "colab_type": "text"
      },
      "source": [
        "<a href=\"https://colab.research.google.com/github/GersonFabioSilva/coursera-neural-network-with-pytorch/blob/GersonFabioSilva-patch-2/1_1_1Dtensors_v2.ipynb\" target=\"_parent\"><img src=\"https://colab.research.google.com/assets/colab-badge.svg\" alt=\"Open In Colab\"/></a>"
      ]
    },
    {
      "cell_type": "markdown",
      "metadata": {
        "id": "ux5BDFmxrkLm"
      },
      "source": [
        "<p style=\"text-align:center\">\n",
        "    <a href=\"https://skills.network\" target=\"_blank\">\n",
        "    <img src=\"https://cf-courses-data.s3.us.cloud-object-storage.appdomain.cloud/assets/logos/SN_web_lightmode.png\" width=\"200\" alt=\"Skills Network Logo\">\n",
        "    </a>\n",
        "</p>\n"
      ]
    },
    {
      "cell_type": "markdown",
      "metadata": {
        "id": "l_fwLYVCrkLn"
      },
      "source": [
        "<h1>Torch Tensors in 1D</h1>\n"
      ]
    },
    {
      "cell_type": "markdown",
      "metadata": {
        "id": "tBEK4hjGrkLn"
      },
      "source": [
        "<h2>Objective</h2><ul><li> How tensor operations work in pytorch.</li></ul>\n"
      ]
    },
    {
      "cell_type": "markdown",
      "metadata": {
        "id": "H3rTxUvBrkLn"
      },
      "source": [
        "<h2>Table of Contents</h2>\n"
      ]
    },
    {
      "cell_type": "markdown",
      "metadata": {
        "id": "ZEUjsGqfrkLn"
      },
      "source": [
        "<p>In this lab, you will learn the basics of tensor operations. Tensors are an essential part of PyTorch; there are complex mathematical objects in and of themselves. Fortunately, most of the intricacies are not necessary. In this section, you will compare them to vectors and numpy arrays.</p>\n",
        "<ul>\n",
        "    <li><a href=\"#Types_Shape\">Types and Shape</a></li>\n",
        "    <li><a href=\"#Index_Slice\">Indexing and Slicing</a></li>\n",
        "    <li><a href=\"#Tensor_Func\">Tensor Functions</a></li>\n",
        "    <li><a href=\"#Tensor_Op\">Tensor Operations</a></li>\n",
        "    <li><a href=\"#Device_Op\">Device_Op Operations</a></li>\n",
        "</ul>\n",
        "\n",
        "<p>Estimated Time Needed: <b>25 min</b></p>\n",
        "<hr>\n"
      ]
    },
    {
      "cell_type": "markdown",
      "metadata": {
        "id": "L833a5hvrkLn"
      },
      "source": [
        "<h2>Preparation</h2>\n"
      ]
    },
    {
      "cell_type": "markdown",
      "metadata": {
        "id": "8vAwvJYSrkLn"
      },
      "source": [
        "Import the following libraries that you'll use for this lab:\n"
      ]
    },
    {
      "cell_type": "code",
      "execution_count": null,
      "metadata": {
        "id": "diPFNlahrkLn"
      },
      "outputs": [],
      "source": [
        "# These are the libraries will be used for this lab.\n",
        "\n",
        "import torch\n",
        "import numpy as np\n",
        "import pandas as pd\n",
        "\n",
        "import matplotlib.pyplot as plt\n",
        "%matplotlib inline"
      ]
    },
    {
      "cell_type": "markdown",
      "metadata": {
        "id": "BJggyXCHrkLo"
      },
      "source": [
        "Check PyTorch version:\n"
      ]
    },
    {
      "cell_type": "code",
      "execution_count": null,
      "metadata": {
        "id": "AJ7WRjpWrkLo"
      },
      "outputs": [],
      "source": [
        "torch.__version__"
      ]
    },
    {
      "cell_type": "markdown",
      "metadata": {
        "id": "SXYwmFq8rkLo"
      },
      "source": [
        "This is the function for plotting diagrams. You will use this function to plot the vectors in Coordinate system.\n"
      ]
    },
    {
      "cell_type": "code",
      "execution_count": null,
      "metadata": {
        "id": "fVQ5VYvDrkLo"
      },
      "outputs": [],
      "source": [
        "# Plot vecotrs, please keep the parameters in the same length\n",
        "# @param: Vectors = [{\"vector\": vector variable, \"name\": name of vector, \"color\": color of the vector on diagram}]\n",
        "\n",
        "def plotVec(vectors):\n",
        "    ax = plt.axes()\n",
        "\n",
        "    # For loop to draw the vectors\n",
        "    for vec in vectors:\n",
        "        ax.arrow(0, 0, *vec[\"vector\"], head_width = 0.05,color = vec[\"color\"], head_length = 0.1)\n",
        "        plt.text(*(vec[\"vector\"] + 0.1), vec[\"name\"])\n",
        "\n",
        "    plt.ylim(-2,2)\n",
        "    plt.xlim(-2,2)"
      ]
    },
    {
      "cell_type": "markdown",
      "metadata": {
        "id": "jNWUjPmnrkLo"
      },
      "source": [
        "<!--Empty Space for separating topics-->\n"
      ]
    },
    {
      "cell_type": "markdown",
      "metadata": {
        "id": "pE7RZR4jrkLo"
      },
      "source": [
        "<h2 id=\"Types_Shape\">Types and Shape</h2>\n"
      ]
    },
    {
      "cell_type": "markdown",
      "metadata": {
        "id": "oiNEFipkrkLo"
      },
      "source": [
        "You can find the type of the following list of integers <i>[0, 1, 2, 3, 4]</i> by applying the constructor <code>torch.tensor()</code>:\n"
      ]
    },
    {
      "cell_type": "code",
      "execution_count": null,
      "metadata": {
        "id": "If8UAhhSrkLp"
      },
      "outputs": [],
      "source": [
        "# Convert a integer list with length 5 to a tensor\n",
        "\n",
        "ints_to_tensor = torch.tensor([0, 1, 2, 3, 4])\n",
        "print(\"The dtype of tensor object after converting it to tensor: \", ints_to_tensor.dtype)\n",
        "print(\"The type of tensor object after converting it to tensor: \", ints_to_tensor.type())"
      ]
    },
    {
      "cell_type": "markdown",
      "metadata": {
        "id": "7smtOViirkLp"
      },
      "source": [
        "As a result, the integer list has been converted to a long tensor.\n"
      ]
    },
    {
      "cell_type": "markdown",
      "metadata": {
        "id": "ypLwQSGIrkLp"
      },
      "source": [
        "The Python type is still <code>torch.Tensor</code>:\n"
      ]
    },
    {
      "cell_type": "code",
      "execution_count": null,
      "metadata": {
        "id": "qngK0T_mrkLp"
      },
      "outputs": [],
      "source": [
        "type(ints_to_tensor)"
      ]
    },
    {
      "cell_type": "markdown",
      "metadata": {
        "id": "Eocg7QnKrkLp"
      },
      "source": [
        "<!--Empty Space for separate topics-->\n"
      ]
    },
    {
      "cell_type": "markdown",
      "metadata": {
        "id": "1cPHURdxrkLp"
      },
      "source": [
        "You can find the type of this float list <i>[0.0, 1.0, 2.0, 3.0, 4.0]</i> by applying the method <code>torch.tensor()</code>:\n"
      ]
    },
    {
      "cell_type": "code",
      "execution_count": null,
      "metadata": {
        "id": "2VmXjKP-rkLp"
      },
      "outputs": [],
      "source": [
        "# Convert a float list with length 5 to a tensor\n",
        "\n",
        "floats_to_tensor = torch.tensor([0.0, 1.0, 2.0, 3.0, 4.0])\n",
        "print(\"The dtype of tensor object after converting it to tensor: \", floats_to_tensor.dtype)\n",
        "print(\"The type of tensor object after converting it to tensor: \", floats_to_tensor.type())"
      ]
    },
    {
      "cell_type": "markdown",
      "metadata": {
        "id": "t7YQuBfhrkLp"
      },
      "source": [
        "The float list is converted to a float tensor.\n"
      ]
    },
    {
      "cell_type": "code",
      "execution_count": null,
      "metadata": {
        "id": "gF5wGYCsrkLp"
      },
      "outputs": [],
      "source": [
        "list_floats=[0.0, 1.0, 2.0, 3.0, 4.0]\n",
        "\n",
        "floats_int_tensor=torch.tensor(list_floats,dtype=torch.int64)"
      ]
    },
    {
      "cell_type": "code",
      "execution_count": null,
      "metadata": {
        "id": "yXseMzwfrkLp"
      },
      "outputs": [],
      "source": [
        "print(\"The dtype of tensor object is: \", floats_int_tensor.dtype)\n",
        "print(\"The type of tensor object is: \", floats_int_tensor.type())"
      ]
    },
    {
      "cell_type": "markdown",
      "metadata": {
        "id": "n6kRzEf0rkLp"
      },
      "source": [
        "<b>Note: The elements in the list that will be converted to tensor must have the same type.</b>\n"
      ]
    },
    {
      "cell_type": "markdown",
      "metadata": {
        "id": "RHkE6JA1rkLp"
      },
      "source": [
        "<!--Empty Space for separating topics-->\n"
      ]
    },
    {
      "cell_type": "markdown",
      "metadata": {
        "id": "KdMLzWKgrkLq"
      },
      "source": [
        "From the previous examples, you see that <code>torch.tensor()</code> converts the list to the tensor type, which is similar to the original list type. However, what if you want to convert the list to a certain tensor type? <code>torch</code> contains the methods required to do this conversion. The following code  converts an integer list to float tensor:\n"
      ]
    },
    {
      "cell_type": "code",
      "execution_count": null,
      "metadata": {
        "id": "Ad8sVcUfrkLq"
      },
      "outputs": [],
      "source": [
        "# Convert a integer list with length 5 to float tensor\n",
        "\n",
        "new_float_tensor = torch.FloatTensor([0, 1, 2, 3, 4])\n",
        "new_float_tensor.type()\n",
        "print(\"The type of the new_float_tensor:\", new_float_tensor.type())"
      ]
    },
    {
      "cell_type": "code",
      "execution_count": null,
      "metadata": {
        "id": "6fflsS4WrkLq"
      },
      "outputs": [],
      "source": [
        "new_float_tensor = torch.FloatTensor([0, 1, 2, 3, 4])"
      ]
    },
    {
      "cell_type": "markdown",
      "metadata": {
        "id": "oJ-TA1LfrkLq"
      },
      "source": [
        "<!--Empty Space for separating topics-->\n"
      ]
    },
    {
      "cell_type": "markdown",
      "metadata": {
        "id": "9h9y3GVQrkLq"
      },
      "source": [
        "You can also convert an existing tensor object (<code><i>tensor_obj</i></code>) to another tensor type. Convert the integer tensor to a float tensor:\n"
      ]
    },
    {
      "cell_type": "code",
      "execution_count": null,
      "metadata": {
        "id": "vv2gp5y6rkLq"
      },
      "outputs": [],
      "source": [
        "# Another method to convert the integer list to float tensor\n",
        "\n",
        "old_int_tensor = torch.tensor([0, 1, 2, 3, 4])\n",
        "new_float_tensor = old_int_tensor.type(torch.FloatTensor)\n",
        "print(\"The type of the new_float_tensor:\", new_float_tensor.type())"
      ]
    },
    {
      "cell_type": "markdown",
      "metadata": {
        "id": "jPorDeGqrkLq"
      },
      "source": [
        "<!--Empty Space for separating topics-->\n"
      ]
    },
    {
      "cell_type": "markdown",
      "metadata": {
        "id": "UCjYdtJ2rkLq"
      },
      "source": [
        "The <code><i>tensor_obj</i>.size()</code> helps you to find out the size of the <code><i>tensor_obj</i></code>.\n",
        "The <code><i>tensor_obj</i>.ndimension()</code> shows the dimension of the tensor object.\n"
      ]
    },
    {
      "cell_type": "code",
      "execution_count": null,
      "metadata": {
        "id": "uMJonUcprkLq"
      },
      "outputs": [],
      "source": [
        "# Introduce the tensor_obj.size() & tensor_ndimension.size() methods\n",
        "\n",
        "print(\"The size of the new_float_tensor: \", new_float_tensor.size())\n",
        "print(\"The dimension of the new_float_tensor: \",new_float_tensor.ndimension())"
      ]
    },
    {
      "cell_type": "markdown",
      "metadata": {
        "id": "SVJIMWrHrkLq"
      },
      "source": [
        "<!--Empty Space for separating topics-->\n"
      ]
    },
    {
      "cell_type": "markdown",
      "metadata": {
        "id": "J62oF1g9rkLr"
      },
      "source": [
        "The <code><i>tensor_obj</i>.view(<i>row, column</i>)</code> is used for reshaping a tensor object.<br>\n"
      ]
    },
    {
      "cell_type": "markdown",
      "metadata": {
        "id": "XE_MvYtFrkLr"
      },
      "source": [
        "What if you have a tensor object with <code>torch.Size([5])</code> as a <code>new_float_tensor</code> as shown in the previous example?<br>\n",
        "After you execute <code>new_float_tensor.view(5, 1)</code>, the size of <code>new_float_tensor</code> will be <code>torch.Size([5, 1])</code>.<br>\n",
        "This means that the tensor object <code>new_float_tensor</code> has been reshaped from a one-dimensional  tensor object with 5 elements to a two-dimensional tensor object with 5 rows and 1 column.\n"
      ]
    },
    {
      "cell_type": "code",
      "execution_count": null,
      "metadata": {
        "id": "QSA6Sol0rkLu"
      },
      "outputs": [],
      "source": [
        "# Introduce the tensor_obj.view(row, column) method\n",
        "\n",
        "twoD_float_tensor = new_float_tensor.view(5, 1)\n",
        "print(\"Original Size: \", new_float_tensor)\n",
        "print(\"Size after view method\", twoD_float_tensor)"
      ]
    },
    {
      "cell_type": "markdown",
      "metadata": {
        "id": "OUXLldzprkLu"
      },
      "source": [
        "Note that the original size is 5. The tensor after reshaping becomes a 5X1 tensor analog to a column vector.\n"
      ]
    },
    {
      "cell_type": "markdown",
      "metadata": {
        "id": "gONqLKCNrkLv"
      },
      "source": [
        "<b>Note: The number of elements in a tensor must remain constant after applying view.</b>\n"
      ]
    },
    {
      "cell_type": "markdown",
      "metadata": {
        "id": "P1SWwLoSrkLv"
      },
      "source": [
        "<!--Empty Space for separating topics-->\n"
      ]
    },
    {
      "cell_type": "markdown",
      "metadata": {
        "id": "ZT0wwpFZrkLv"
      },
      "source": [
        "What if you have a tensor with dynamic size but you want to reshape it? You can use <b>-1</b> to do just that.\n"
      ]
    },
    {
      "cell_type": "code",
      "execution_count": null,
      "metadata": {
        "id": "Liir_Qr7rkLv"
      },
      "outputs": [],
      "source": [
        "# Introduce the use of -1 in tensor_obj.view(row, column) method\n",
        "\n",
        "twoD_float_tensor = new_float_tensor.view(-1, 1)\n",
        "print(\"Original Size: \", new_float_tensor)\n",
        "print(\"Size after view method\", twoD_float_tensor)"
      ]
    },
    {
      "cell_type": "markdown",
      "metadata": {
        "id": "4i_SAYYJrkLv"
      },
      "source": [
        "You get the same result as the previous example. The <b>-1</b> can represent any size. However, be careful because you can set only one argument as <b>-1</b>.\n"
      ]
    },
    {
      "cell_type": "markdown",
      "metadata": {
        "id": "gBSKiGvwrkLv"
      },
      "source": [
        "<!--Empty Space for separating topics-->\n"
      ]
    },
    {
      "cell_type": "markdown",
      "metadata": {
        "id": "ZSxNGjSBrkLv"
      },
      "source": [
        "You can also convert a <b>numpy</b> array to a <b>tensor</b>, for example:\n"
      ]
    },
    {
      "cell_type": "code",
      "execution_count": null,
      "metadata": {
        "id": "UoyvgHcurkLv"
      },
      "outputs": [],
      "source": [
        "# Convert a numpy array to a tensor\n",
        "\n",
        "numpy_array = np.array([0.0, 1.0, 2.0, 3.0, 4.0])\n",
        "new_tensor = torch.from_numpy(numpy_array)\n",
        "\n",
        "print(\"The dtype of new tensor: \", new_tensor.dtype)\n",
        "print(\"The type of new tensor: \", new_tensor.type())"
      ]
    },
    {
      "cell_type": "markdown",
      "metadata": {
        "id": "tZbXTXKKrkLv"
      },
      "source": [
        "<!--Empty Space for separating topics-->\n"
      ]
    },
    {
      "cell_type": "markdown",
      "metadata": {
        "id": "SEIK6t2qrkLv"
      },
      "source": [
        "Converting a <b>tensor</b> to a <b>numpy</b> is also supported in PyTorch. The syntax is shown below:\n"
      ]
    },
    {
      "cell_type": "code",
      "execution_count": null,
      "metadata": {
        "id": "X316cACdrkLw"
      },
      "outputs": [],
      "source": [
        "# Convert a tensor to a numpy array\n",
        "\n",
        "back_to_numpy = new_tensor.numpy()\n",
        "print(\"The numpy array from tensor: \", back_to_numpy)\n",
        "print(\"The dtype of numpy array: \", back_to_numpy.dtype)"
      ]
    },
    {
      "cell_type": "markdown",
      "metadata": {
        "id": "_ANNzy-JrkLw"
      },
      "source": [
        "<code>back_to_numpy</code> and <code>new_tensor</code> still point to <code>numpy_array</code>. As a result if we change <code>numpy_array</code> both <code>back_to_numpy</code> and <code>new_tensor</code> will change. For example if we set all the elements in <code>numpy_array</code> to zeros, <code>back_to_numpy</code> and <code> new_tensor</code> will follow suit.\n"
      ]
    },
    {
      "cell_type": "code",
      "execution_count": null,
      "metadata": {
        "id": "CrVSzlqsrkLw"
      },
      "outputs": [],
      "source": [
        "# Set all elements in numpy array to zero\n",
        "numpy_array[:] = 0\n",
        "print(\"The new tensor points to numpy_array : \", new_tensor)\n",
        "print(\"and back to numpy array points to the tensor: \", back_to_numpy)"
      ]
    },
    {
      "cell_type": "markdown",
      "metadata": {
        "id": "s7MX5LVqrkLw"
      },
      "source": [
        "<!--Empty Space for separating topics-->\n"
      ]
    },
    {
      "cell_type": "markdown",
      "metadata": {
        "id": "q2-_D3KBrkLw"
      },
      "source": [
        "<b>Pandas Series</b> can also be converted by using the numpy array that is stored in <code>pandas_series.values</code>. Note that <code>pandas_series</code> can be any pandas_series object.\n"
      ]
    },
    {
      "cell_type": "code",
      "execution_count": null,
      "metadata": {
        "id": "W_wuf7UcrkLw"
      },
      "outputs": [],
      "source": [
        "# Convert a panda series to a tensor\n",
        "\n",
        "pandas_series=pd.Series([0.1, 2, 0.3, 10.1])\n",
        "new_tensor=torch.from_numpy(pandas_series.values)\n",
        "print(\"The new tensor from numpy array: \", new_tensor)\n",
        "print(\"The dtype of new tensor: \", new_tensor.dtype)\n",
        "print(\"The type of new tensor: \", new_tensor.type())"
      ]
    },
    {
      "cell_type": "markdown",
      "metadata": {
        "id": "rGGq9VWGrkLw"
      },
      "source": [
        "consider the following tensor\n"
      ]
    },
    {
      "cell_type": "code",
      "execution_count": null,
      "metadata": {
        "id": "ZpsCXaMrrkLw"
      },
      "outputs": [],
      "source": [
        "this_tensor=torch.tensor([0,1, 2,3])"
      ]
    },
    {
      "cell_type": "markdown",
      "metadata": {
        "id": "sbFo9FPzrkLw"
      },
      "source": [
        "The method <code>item()</code> returns the value of this tensor as a standard Python number. This only works for one element.\n"
      ]
    },
    {
      "cell_type": "code",
      "execution_count": null,
      "metadata": {
        "id": "i50o3bkVrkLw"
      },
      "outputs": [],
      "source": [
        "this_tensor=torch.tensor([0,1, 2,3])\n",
        "\n",
        "print(\"the first item is given by\",this_tensor[0].item(),\"the first tensor value is given by \",this_tensor[0])\n",
        "print(\"the second item is given by\",this_tensor[1].item(),\"the second tensor value is given by \",this_tensor[1])\n",
        "print(\"the third  item is given by\",this_tensor[2].item(),\"the third tensor value is given by \",this_tensor[2])"
      ]
    },
    {
      "cell_type": "markdown",
      "metadata": {
        "id": "dQEgPSa2rkLw"
      },
      "source": [
        "we can use the method <code> tolist()</code> to return a list\n"
      ]
    },
    {
      "cell_type": "code",
      "execution_count": null,
      "metadata": {
        "id": "tY6gZ19CrkLx"
      },
      "outputs": [],
      "source": [
        "torch_to_list=this_tensor.tolist()\n",
        "\n",
        "print('tensor:', this_tensor,\"\\nlist:\",torch_to_list)"
      ]
    },
    {
      "cell_type": "markdown",
      "metadata": {
        "id": "IyBCma7MrkLx"
      },
      "source": [
        "<!--Empty Space for separating topics-->\n"
      ]
    },
    {
      "cell_type": "markdown",
      "metadata": {
        "id": "m4fhdwJGrkLx"
      },
      "source": [
        "<h3>Practice</h3>\n"
      ]
    },
    {
      "cell_type": "markdown",
      "metadata": {
        "id": "vSM76W1-rkLx"
      },
      "source": [
        "Try to convert <code>your_tensor</code> to a 1X5 tensor.\n"
      ]
    },
    {
      "cell_type": "code",
      "execution_count": null,
      "metadata": {
        "id": "ml-M65ATrkLx"
      },
      "outputs": [],
      "source": [
        "# Practice: convert the following tensor to a tensor object with 1 row and 5 columns\n",
        "\n",
        "your_tensor = torch.tensor([1, 2, 3, 4, 5])"
      ]
    },
    {
      "cell_type": "markdown",
      "metadata": {
        "id": "-5mf9uoGrkLx"
      },
      "source": [
        "Double-click <b>here</b> for the solution.\n",
        "<!--\n",
        "your_new_tensor = your_tensor.view(1, 5)\n",
        "print(\"Original Size: \", your_tensor)\n",
        "print(\"Size after view method\", your_new_tensor)\n",
        "-->\n"
      ]
    },
    {
      "cell_type": "markdown",
      "metadata": {
        "id": "AV43-DYkrkLx"
      },
      "source": [
        "<!--Empty Space for separating topics-->\n"
      ]
    },
    {
      "cell_type": "markdown",
      "metadata": {
        "id": "OActFMG1rkLx"
      },
      "source": [
        "<h2 id=\"Index_Slice\">Indexing and Slicing</h2>\n"
      ]
    },
    {
      "cell_type": "markdown",
      "metadata": {
        "id": "RsgX5s8RrkLx"
      },
      "source": [
        "In Python, <b>the index starts with 0</b>. Therefore, the last index will always be 1 less than the length of the tensor object.\n",
        "You can access the value on a certain index by using the square bracket, for example:\n"
      ]
    },
    {
      "cell_type": "code",
      "execution_count": null,
      "metadata": {
        "id": "P7ztyiBIrkLx"
      },
      "outputs": [],
      "source": [
        "# A tensor for showing how the indexs work on tensors\n",
        "\n",
        "index_tensor = torch.tensor([0, 1, 2, 3, 4])\n",
        "print(\"The value on index 0:\",index_tensor[0])\n",
        "print(\"The value on index 1:\",index_tensor[1])\n",
        "print(\"The value on index 2:\",index_tensor[2])\n",
        "print(\"The value on index 3:\",index_tensor[3])\n",
        "print(\"The value on index 4:\",index_tensor[4])"
      ]
    },
    {
      "cell_type": "markdown",
      "metadata": {
        "id": "Q2Bz0bGtrkLx"
      },
      "source": [
        "<b>Note that the <code>index_tensor[5]</code> will create an error.</b>\n"
      ]
    },
    {
      "cell_type": "markdown",
      "metadata": {
        "id": "UcDYjIGMrkLy"
      },
      "source": [
        "<!--Empty Space for separating topics-->\n"
      ]
    },
    {
      "cell_type": "markdown",
      "metadata": {
        "id": "QolgDsvNrkLy"
      },
      "source": [
        "The index is shown in the following figure:\n"
      ]
    },
    {
      "cell_type": "markdown",
      "metadata": {
        "id": "JTdbFm8MrkLy"
      },
      "source": [
        "<img src=\"https://s3-api.us-geo.objectstorage.softlayer.net/cf-courses-data/CognitiveClass/DL0110EN/notebook_images%20/chapter%201/idex_1.png\" width=\"500\" alt=\"Python Index\">\n"
      ]
    },
    {
      "cell_type": "markdown",
      "metadata": {
        "id": "OKWTCsxUrkLy"
      },
      "source": [
        "<!--Empty Space for separating topics-->\n"
      ]
    },
    {
      "cell_type": "markdown",
      "metadata": {
        "id": "7mIg0OrvrkLy"
      },
      "source": [
        "Now, you'll see how to change the values on certain indexes.\n"
      ]
    },
    {
      "cell_type": "markdown",
      "metadata": {
        "id": "8x0vWdC0rkLy"
      },
      "source": [
        "Suppose you have a tensor as shown here:\n"
      ]
    },
    {
      "cell_type": "code",
      "execution_count": null,
      "metadata": {
        "id": "yx4INBjGrkLy"
      },
      "outputs": [],
      "source": [
        "# A tensor for showing how to change value according to the index\n",
        "\n",
        "tensor_sample = torch.tensor([20, 1, 2, 3, 4])"
      ]
    },
    {
      "cell_type": "markdown",
      "metadata": {
        "id": "0KLqhrGMrkLy"
      },
      "source": [
        "Assign the value on index 0 as 100:\n"
      ]
    },
    {
      "cell_type": "code",
      "execution_count": null,
      "metadata": {
        "id": "Okr1ZVfarkLy"
      },
      "outputs": [],
      "source": [
        "# Change the value on the index 0 to 100\n",
        "\n",
        "print(\"Inital value on index 0:\", tensor_sample[0])\n",
        "tensor_sample[0] = 100\n",
        "print(\"Modified tensor:\", tensor_sample)"
      ]
    },
    {
      "cell_type": "markdown",
      "metadata": {
        "id": "eQBUGnBirkLy"
      },
      "source": [
        "As you can see, the value on index 0 changes. Change the value on index 4 to 0:\n"
      ]
    },
    {
      "cell_type": "code",
      "execution_count": null,
      "metadata": {
        "id": "8XqMFohArkLy"
      },
      "outputs": [],
      "source": [
        "# Change the value on the index 4 to 0\n",
        "\n",
        "print(\"Inital value on index 4:\", tensor_sample[4])\n",
        "tensor_sample[4] = 0\n",
        "print(\"Modified tensor:\", tensor_sample)"
      ]
    },
    {
      "cell_type": "markdown",
      "metadata": {
        "id": "uc423qGIrkLy"
      },
      "source": [
        "The value on index 4 turns to 0.\n"
      ]
    },
    {
      "cell_type": "markdown",
      "metadata": {
        "id": "MFIUXhxIrkLz"
      },
      "source": [
        "<!--Empty Space for separating topics-->\n"
      ]
    },
    {
      "cell_type": "markdown",
      "metadata": {
        "id": "J2yz3slqrkLz"
      },
      "source": [
        "If you are familiar with Python, you know that there is a feature called slicing on a list. Tensors support the same feature.\n"
      ]
    },
    {
      "cell_type": "markdown",
      "metadata": {
        "id": "sD56iFZArkLz"
      },
      "source": [
        "Get the subset of <code>tensor_sample</code>. The subset should contain the values in <code>tensor_sample</code> from index 1 to index 3.\n"
      ]
    },
    {
      "cell_type": "code",
      "execution_count": null,
      "metadata": {
        "id": "iKE1amrarkLz"
      },
      "outputs": [],
      "source": [
        "# Slice tensor_sample\n",
        "\n",
        "subset_tensor_sample = tensor_sample[1:4]\n",
        "print(\"Original tensor sample: \", tensor_sample)\n",
        "print(\"The subset of tensor sample:\", subset_tensor_sample)"
      ]
    },
    {
      "cell_type": "markdown",
      "metadata": {
        "id": "dseM_7xwrkLz"
      },
      "source": [
        "As a result, the <code>subset_tensor_sample</code> returned only the values on index 1, index 2, and index 3. Then, it stored them in a <code>subset_tensor_sample</code>.\n"
      ]
    },
    {
      "cell_type": "markdown",
      "metadata": {
        "id": "MV_knKR_rkLz"
      },
      "source": [
        "<b>Note: The number on the left side of the colon represents the index of the first value. The number on the right side of the colon is always 1 larger than the index of the last value. For example, <code>tensor_sample[1:4]</code> means you get values from the index 1 to index 3 <i>(4-1)</i></b>.\n"
      ]
    },
    {
      "cell_type": "markdown",
      "metadata": {
        "id": "4stokh27rkLz"
      },
      "source": [
        "<!--Empty Space for separating topics-->\n"
      ]
    },
    {
      "cell_type": "markdown",
      "metadata": {
        "id": "L_pK24WcrkLz"
      },
      "source": [
        "As for assigning values to the certain index, you can also assign the value to the slices:\n"
      ]
    },
    {
      "cell_type": "markdown",
      "metadata": {
        "id": "mhRPII8zrkLz"
      },
      "source": [
        "Change the value of <code>tensor_sample</code> from index 3 to index 4:\n"
      ]
    },
    {
      "cell_type": "code",
      "execution_count": null,
      "metadata": {
        "id": "KhaZnuVQrkLz"
      },
      "outputs": [],
      "source": [
        "# Change the values on index 3 and index 4\n",
        "\n",
        "print(\"Inital value on index 3 and index 4:\", tensor_sample[3:5])\n",
        "tensor_sample[3:5] = torch.tensor([300.0, 400.0])\n",
        "print(\"Modified tensor:\", tensor_sample)"
      ]
    },
    {
      "cell_type": "markdown",
      "metadata": {
        "id": "pmnHZeXTrkLz"
      },
      "source": [
        "The values on both index 3 and index 4 were changed. The values on other indexes remain the same.\n"
      ]
    },
    {
      "cell_type": "markdown",
      "metadata": {
        "id": "ToG_ZnYxrkLz"
      },
      "source": [
        "<!--Empty Space for separating topics-->\n"
      ]
    },
    {
      "cell_type": "markdown",
      "metadata": {
        "id": "DjIAfXtGrkL0"
      },
      "source": [
        "You can also use a variable to contain the selected indexes and pass that variable to a tensor slice operation as a parameter, for example:  \n"
      ]
    },
    {
      "cell_type": "code",
      "execution_count": null,
      "metadata": {
        "id": "Zvte0Ab5rkL0"
      },
      "outputs": [],
      "source": [
        "# Using variable to contain the selected index, and pass it to slice operation\n",
        "\n",
        "selected_indexes = [3, 4]\n",
        "subset_tensor_sample = tensor_sample[selected_indexes]\n",
        "print(\"The inital tensor_sample\", tensor_sample)\n",
        "print(\"The subset of tensor_sample with the values on index 3 and 4: \", subset_tensor_sample)"
      ]
    },
    {
      "cell_type": "markdown",
      "metadata": {
        "id": "A-ojBULsrkL0"
      },
      "source": [
        "<!--Empty Space for separating topics-->\n"
      ]
    },
    {
      "cell_type": "markdown",
      "metadata": {
        "id": "JBxQAKGCrkL0"
      },
      "source": [
        "You can also assign one value to the selected indexes by using the variable. For example, assign 100,000 to all the <code>selected_indexes</code>:\n"
      ]
    },
    {
      "cell_type": "code",
      "execution_count": null,
      "metadata": {
        "id": "xisKCwaLrkL0"
      },
      "outputs": [],
      "source": [
        "#Using variable to assign the value to the selected indexes\n",
        "\n",
        "print(\"The inital tensor_sample\", tensor_sample)\n",
        "selected_indexes = [1, 3]\n",
        "tensor_sample[selected_indexes] = 100000\n",
        "print(\"Modified tensor with one value: \", tensor_sample)"
      ]
    },
    {
      "cell_type": "markdown",
      "metadata": {
        "id": "hihB8tpprkL0"
      },
      "source": [
        "The values on index 1 and index 3 were changed to 100,000. Others remain the same.\n"
      ]
    },
    {
      "cell_type": "markdown",
      "metadata": {
        "id": "2HM0mXMqrkL0"
      },
      "source": [
        "<b>Note: You can use only one value for the assignment.</b>\n"
      ]
    },
    {
      "cell_type": "markdown",
      "metadata": {
        "id": "es6OamqQrkL0"
      },
      "source": [
        "<!--Empty Space for separating topics-->\n"
      ]
    },
    {
      "cell_type": "markdown",
      "metadata": {
        "id": "CcsAPFJkrkL0"
      },
      "source": [
        "<h3>Practice</h3>\n"
      ]
    },
    {
      "cell_type": "markdown",
      "metadata": {
        "id": "mhqBsum8rkL0"
      },
      "source": [
        "Try to change the values on index 3, 4, 7 of the following tensor to 0.\n"
      ]
    },
    {
      "cell_type": "code",
      "execution_count": null,
      "metadata": {
        "id": "jheNU1jWrkL0"
      },
      "outputs": [],
      "source": [
        "# Practice: Change the values on index 3, 4, 7 to 0\n",
        "\n",
        "practice_tensor = torch.tensor([2, 7, 3, 4, 6, 2, 3, 1, 2])"
      ]
    },
    {
      "cell_type": "markdown",
      "metadata": {
        "id": "PpfqlSu3rkL0"
      },
      "source": [
        "Double-click <b>here</b> for the solution.\n",
        "<!--\n",
        "selected_indexes = [3, 4, 7]\n",
        "practice_tensor[selected_indexes] = 0\n",
        "print(\"New Practice Tensor: \", practice_tensor)\n",
        "-->\n"
      ]
    },
    {
      "cell_type": "markdown",
      "metadata": {
        "id": "09unTpZFrkL1"
      },
      "source": [
        "<!--Empty Space for separating topics-->\n"
      ]
    },
    {
      "cell_type": "markdown",
      "metadata": {
        "id": "S8XD_WeUrkL1"
      },
      "source": [
        "<h2 id=\"Tensor_Func\">Tensor Functions</h2>\n"
      ]
    },
    {
      "cell_type": "markdown",
      "metadata": {
        "id": "G-ptu9BhrkL1"
      },
      "source": [
        "For this section, you'll work with some methods that you can apply to tensor objects.\n"
      ]
    },
    {
      "cell_type": "markdown",
      "metadata": {
        "id": "i2TX5dv5rkL1"
      },
      "source": [
        "<h3>Mean and Standard Deviation</h3>\n"
      ]
    },
    {
      "cell_type": "markdown",
      "metadata": {
        "id": "oEx62qqNrkL1"
      },
      "source": [
        "You'll review the mean and standard deviation methods first. They are two basic statistical methods.\n"
      ]
    },
    {
      "cell_type": "markdown",
      "metadata": {
        "id": "3xCXKd4lrkL1"
      },
      "source": [
        "<!--Empty Space for separating topics-->\n"
      ]
    },
    {
      "cell_type": "markdown",
      "metadata": {
        "id": "BazszMPRrkL1"
      },
      "source": [
        "Create a tensor with values <i>[1.0, -1, 1, -1]</i>:\n"
      ]
    },
    {
      "cell_type": "code",
      "execution_count": null,
      "metadata": {
        "id": "KSIKm0ZxrkL1"
      },
      "outputs": [],
      "source": [
        "# Sample tensor for mathmatic calculation methods on tensor\n",
        "\n",
        "math_tensor = torch.tensor([1.0, -1.0, 1, -1])\n",
        "print(\"Tensor example: \", math_tensor)"
      ]
    },
    {
      "cell_type": "markdown",
      "metadata": {
        "id": "YMqM8XENrkL1"
      },
      "source": [
        "<!--Empty Space for separating topics-->\n"
      ]
    },
    {
      "cell_type": "markdown",
      "metadata": {
        "id": "9bXzjY0FrkL1"
      },
      "source": [
        "Here is the mean method:  \n"
      ]
    },
    {
      "cell_type": "code",
      "execution_count": null,
      "metadata": {
        "id": "c7enUEafrkL1"
      },
      "outputs": [],
      "source": [
        "#Calculate the mean for math_tensor\n",
        "\n",
        "mean = math_tensor.mean()\n",
        "print(\"The mean of math_tensor: \", mean)"
      ]
    },
    {
      "cell_type": "markdown",
      "metadata": {
        "id": "vizxHrD8rkL1"
      },
      "source": [
        "<!--Empty Space for separating topics-->\n"
      ]
    },
    {
      "cell_type": "markdown",
      "metadata": {
        "id": "KixOLDPTrkL1"
      },
      "source": [
        "The standard deviation can also be calculated by using <code><i>tensor_obj</i>.std()</code>:\n"
      ]
    },
    {
      "cell_type": "code",
      "execution_count": null,
      "metadata": {
        "id": "p5EEn9CarkL2"
      },
      "outputs": [],
      "source": [
        "#Calculate the standard deviation for math_tensor\n",
        "\n",
        "standard_deviation = math_tensor.std()\n",
        "print(\"The standard deviation of math_tensor: \", standard_deviation)"
      ]
    },
    {
      "cell_type": "markdown",
      "metadata": {
        "id": "F0GyFmagrkL2"
      },
      "source": [
        "<!--Empty Space for separating topics-->\n"
      ]
    },
    {
      "cell_type": "markdown",
      "metadata": {
        "id": "Axo2cMpurkL2"
      },
      "source": [
        "<h3>Max and Min</h3>\n"
      ]
    },
    {
      "cell_type": "markdown",
      "metadata": {
        "id": "s5Z5A6QwrkL2"
      },
      "source": [
        "Now, you'll review another two useful methods: <code><i>tensor_obj</i>.max()</code> and <code><i>tensor_obj</i>.min()</code>. These two methods are used for finding the maximum value and the minimum value in the tensor.\n"
      ]
    },
    {
      "cell_type": "markdown",
      "metadata": {
        "id": "eLbTVGNlrkL2"
      },
      "source": [
        "<!--Empty Space for separating topics-->\n"
      ]
    },
    {
      "cell_type": "markdown",
      "metadata": {
        "id": "R1ZWNtMorkL2"
      },
      "source": [
        "Create a <code>max_min_tensor</code>:\n"
      ]
    },
    {
      "cell_type": "code",
      "execution_count": null,
      "metadata": {
        "id": "rxu2f9IGrkL2"
      },
      "outputs": [],
      "source": [
        "# Sample for introducing max and min methods\n",
        "\n",
        "max_min_tensor = torch.tensor([1, 1, 3, 5, 5])\n",
        "print(\"Tensor example: \", max_min_tensor)"
      ]
    },
    {
      "cell_type": "markdown",
      "metadata": {
        "id": "I2cXdqpOrkL2"
      },
      "source": [
        "<b>Note: There are two minimum numbers as 1 and two maximum numbers as 5 in the tensor. Can you guess how PyTorch is going to deal with the duplicates?</b>\n"
      ]
    },
    {
      "cell_type": "markdown",
      "metadata": {
        "id": "VKb2DqQmrkL2"
      },
      "source": [
        "<!--Empty Space for separating topics-->\n"
      ]
    },
    {
      "cell_type": "markdown",
      "metadata": {
        "id": "su5d658ArkL2"
      },
      "source": [
        "Apply <code><i>tensor_obj</i>.max()</code> on <code>max_min_tensor</code>:\n"
      ]
    },
    {
      "cell_type": "code",
      "execution_count": null,
      "metadata": {
        "id": "VE2-TcT8rkL2"
      },
      "outputs": [],
      "source": [
        "# Method for finding the maximum value in the tensor\n",
        "\n",
        "max_val = max_min_tensor.max()\n",
        "print(\"Maximum number in the tensor: \", max_val)"
      ]
    },
    {
      "cell_type": "markdown",
      "metadata": {
        "id": "wPdmjzcWrkL2"
      },
      "source": [
        "The answer is <code>tensor(5)</code>. Therefore, the method <code><i>tensor_obj</i>.max()</code> is grabbing the maximum value but not the elements that contain the maximum value in the tensor.\n"
      ]
    },
    {
      "cell_type": "code",
      "execution_count": null,
      "metadata": {
        "id": "66BvkvW0rkL3"
      },
      "outputs": [],
      "source": [
        " max_min_tensor.max()"
      ]
    },
    {
      "cell_type": "markdown",
      "metadata": {
        "id": "8yuxJkE6rkL3"
      },
      "source": [
        "<!--Empty Space for separating topics-->\n"
      ]
    },
    {
      "cell_type": "markdown",
      "metadata": {
        "id": "ICTSigG7rkL3"
      },
      "source": [
        "Use <code><i>tensor_obj</i>.min()</code> on <code>max_min_tensor</code>:\n"
      ]
    },
    {
      "cell_type": "code",
      "execution_count": null,
      "metadata": {
        "id": "ptN0ov_4rkL3"
      },
      "outputs": [],
      "source": [
        "# Method for finding the minimum value in the tensor\n",
        "\n",
        "min_val = max_min_tensor.min()\n",
        "print(\"Minimum number in the tensor: \", min_val)"
      ]
    },
    {
      "cell_type": "markdown",
      "metadata": {
        "id": "k6_CUENnrkL3"
      },
      "source": [
        "The answer is <code>tensor(1)</code>. Therefore, the method <code><i>tensor_obj</i>.min()</code> is grabbing the minimum value but not the elements that contain the minimum value in the tensor.\n"
      ]
    },
    {
      "cell_type": "markdown",
      "metadata": {
        "id": "qeaVzbqfrkL3"
      },
      "source": [
        "<!--Empty Space for separating topics-->\n"
      ]
    },
    {
      "cell_type": "markdown",
      "metadata": {
        "id": "vkKsqHElrkL3"
      },
      "source": [
        "<h3>Sin</h3>\n"
      ]
    },
    {
      "cell_type": "markdown",
      "metadata": {
        "id": "0-xpnfJqrkL3"
      },
      "source": [
        "Sin is the trigonometric function of an angle. Again, you will not be introducedvto any mathematic functions. You'll focus on Python.\n"
      ]
    },
    {
      "cell_type": "markdown",
      "metadata": {
        "id": "1-S93UwKrkL3"
      },
      "source": [
        "<!--Empty Space for separating topics-->\n"
      ]
    },
    {
      "cell_type": "markdown",
      "metadata": {
        "id": "u37scDCjrkL3"
      },
      "source": [
        "Create a tensor with 0, π/2 and π. Then, apply the sin function on the tensor. Notice here that the <code>sin()</code> is not a method of tensor object but is a function of torch:\n"
      ]
    },
    {
      "cell_type": "code",
      "execution_count": null,
      "metadata": {
        "id": "t5aptNlRrkL3"
      },
      "outputs": [],
      "source": [
        "# Method for calculating the sin result of each element in the tensor\n",
        "\n",
        "pi_tensor = torch.tensor([0, np.pi/2, np.pi])\n",
        "sin = torch.sin(pi_tensor)\n",
        "print(\"The sin result of pi_tensor: \", sin)"
      ]
    },
    {
      "cell_type": "markdown",
      "metadata": {
        "id": "jPaY_OJprkL4"
      },
      "source": [
        "The resultant tensor <code>sin</code> contains the result of the <code>sin</code> function applied to each element in the <code>pi_tensor</code>.<br>\n",
        "This is different from the previous methods. For <code><i>tensor_obj</i>.mean()</code>, <code><i>tensor_obj</i>.std()</code>, <code><i>tensor_obj</i>.max()</code>, and <code><i>tensor_obj</i>.min()</code>, the result is a tensor with only one number because these are aggregate methods.<br>\n",
        "However, the <code>torch.sin()</code> is not. Therefore, the resultant tensors have the same length as the input tensor.\n"
      ]
    },
    {
      "cell_type": "markdown",
      "metadata": {
        "id": "_oL_jBIErkL4"
      },
      "source": [
        "<!--Empty Space for separating topics-->\n"
      ]
    },
    {
      "cell_type": "markdown",
      "metadata": {
        "id": "qucLR1iarkL4"
      },
      "source": [
        "<h3>Create Tensor by <code>torch.linspace()</code></h3>\n"
      ]
    },
    {
      "cell_type": "markdown",
      "metadata": {
        "id": "Hel8c0N4rkL4"
      },
      "source": [
        "A useful function for plotting mathematical functions is <code>torch.linspace()</code>. <code>torch.linspace()</code> returns evenly spaced numbers over a specified interval. You specify the starting point of the sequence and the ending point of the sequence. The parameter <code>steps</code> indicates the number of samples to generate. Now, you'll work with <code>steps = 5</code>.\n"
      ]
    },
    {
      "cell_type": "code",
      "execution_count": null,
      "metadata": {
        "id": "HjGA80OVrkL4"
      },
      "outputs": [],
      "source": [
        "# First try on using linspace to create tensor\n",
        "\n",
        "len_5_tensor = torch.linspace(-2, 2, steps = 5)\n",
        "print (\"First Try on linspace\", len_5_tensor)"
      ]
    },
    {
      "cell_type": "markdown",
      "metadata": {
        "id": "sTL1oXPSrkL4"
      },
      "source": [
        "<!--Empty Space for separating topics-->\n"
      ]
    },
    {
      "cell_type": "markdown",
      "metadata": {
        "id": "VgPT9ngGrkL4"
      },
      "source": [
        "Assign <code>steps</code> with 9:\n"
      ]
    },
    {
      "cell_type": "code",
      "execution_count": null,
      "metadata": {
        "id": "mI8IJ8CwrkL4"
      },
      "outputs": [],
      "source": [
        "# Second try on using linspace to create tensor\n",
        "\n",
        "len_9_tensor = torch.linspace(-2, 2, steps = 9)\n",
        "print (\"Second Try on linspace\", len_9_tensor)"
      ]
    },
    {
      "cell_type": "markdown",
      "metadata": {
        "id": "mpUoTZHErkL4"
      },
      "source": [
        "<!--Empty Space for separating topics-->\n"
      ]
    },
    {
      "cell_type": "markdown",
      "metadata": {
        "id": "DqFpaxgorkL4"
      },
      "source": [
        "Use both <code>torch.linspace()</code> and <code>torch.sin()</code> to construct a tensor that contains the 100 sin result in range from 0 (0 degree) to 2π (360 degree):\n"
      ]
    },
    {
      "cell_type": "code",
      "execution_count": null,
      "metadata": {
        "id": "zP2TUA-lrkL4"
      },
      "outputs": [],
      "source": [
        "# Construct the tensor within 0 to 360 degree\n",
        "\n",
        "pi_tensor = torch.linspace(0, 2*np.pi, 100)\n",
        "sin_result = torch.sin(pi_tensor)"
      ]
    },
    {
      "cell_type": "markdown",
      "metadata": {
        "id": "Dmj-HpOqrkL4"
      },
      "source": [
        "Plot the result to get a clearer picture. You must cast the tensor to a numpy array before plotting it.\n"
      ]
    },
    {
      "cell_type": "code",
      "execution_count": null,
      "metadata": {
        "id": "1U_7CwXErkL4"
      },
      "outputs": [],
      "source": [
        "# Plot sin_result\n",
        "\n",
        "plt.plot(pi_tensor.numpy(), sin_result.numpy())"
      ]
    },
    {
      "cell_type": "markdown",
      "metadata": {
        "id": "QML-Lx1yrkL5"
      },
      "source": [
        "If you know the trigonometric function, you will notice this is the diagram of the sin result in the range 0 to 360 degrees.\n"
      ]
    },
    {
      "cell_type": "markdown",
      "metadata": {
        "id": "87qHypWerkL5"
      },
      "source": [
        "<!--Empty Space for separating topics-->\n"
      ]
    },
    {
      "cell_type": "markdown",
      "metadata": {
        "id": "2N701mRFrkL5"
      },
      "source": [
        "<h3>Practice</h3>\n"
      ]
    },
    {
      "cell_type": "markdown",
      "metadata": {
        "id": "OkiXk56CrkL5"
      },
      "source": [
        "Construct a tensor with 25 steps in the range 0 to π/2. Print out the Maximum and Minimum number. Also, plot  a graph showing the diagram that shows the result.\n"
      ]
    },
    {
      "cell_type": "code",
      "execution_count": null,
      "metadata": {
        "id": "VJujVTw1rkL5"
      },
      "outputs": [],
      "source": [
        "# Practice: Create your tensor, print max and min number, plot the sin result diagram\n",
        "\n",
        "# Type your code here"
      ]
    },
    {
      "cell_type": "markdown",
      "metadata": {
        "id": "OocAkRlKrkL7"
      },
      "source": [
        "Double-click <b>here</b> for the solution.\n",
        "<!--\n",
        "pi_tensor = torch.linspace(0, np.pi/2, 100)\n",
        "print(\"Max Number: \", pi_tensor.max())\n",
        "print(\"Min Number\", pi_tensor.min())\n",
        "sin_result = torch.sin(pi_tensor)\n",
        "plt.plot(pi_tensor.numpy(), sin_result.numpy())\n",
        "-->\n"
      ]
    },
    {
      "cell_type": "markdown",
      "metadata": {
        "id": "zicDHt4hrkL7"
      },
      "source": [
        "<!--Empty Space for separating topics-->\n"
      ]
    },
    {
      "cell_type": "markdown",
      "metadata": {
        "id": "2PdR8U8irkL7"
      },
      "source": [
        "<h2 id=\"Tensor_Op\">Tensor Operations</h2>\n"
      ]
    },
    {
      "cell_type": "markdown",
      "metadata": {
        "id": "6n2GwD80rkL7"
      },
      "source": [
        "In the following section, you'll work with operations that you can apply to a tensor.\n"
      ]
    },
    {
      "cell_type": "markdown",
      "metadata": {
        "id": "VbJCwu_WrkL7"
      },
      "source": [
        "<!--Empty Space for separating topics-->\n"
      ]
    },
    {
      "cell_type": "markdown",
      "metadata": {
        "id": "aqLeYQqfrkL7"
      },
      "source": [
        "<h3>Tensor Addition</h3>\n"
      ]
    },
    {
      "cell_type": "markdown",
      "metadata": {
        "id": "4eIvu8-BrkL8"
      },
      "source": [
        "You can perform addition between two tensors.\n"
      ]
    },
    {
      "cell_type": "markdown",
      "metadata": {
        "id": "NMP4qaTjrkL8"
      },
      "source": [
        "Create a tensor <code>u</code> with 1 dimension and 2 elements. Then, create another tensor <code>v</code> with the same number of dimensions and the same number of elements:\n"
      ]
    },
    {
      "cell_type": "code",
      "execution_count": null,
      "metadata": {
        "id": "h3m_PQj2rkL8"
      },
      "outputs": [],
      "source": [
        "# Create two sample tensors\n",
        "\n",
        "u = torch.tensor([1, 0])\n",
        "v = torch.tensor([0, 1])"
      ]
    },
    {
      "cell_type": "markdown",
      "metadata": {
        "id": "m6D1NxONrkL8"
      },
      "source": [
        "Add <code>u</code> and <code>v</code> together:\n"
      ]
    },
    {
      "cell_type": "code",
      "execution_count": null,
      "metadata": {
        "id": "QJr4Pj4NrkL8"
      },
      "outputs": [],
      "source": [
        "# Add u and v\n",
        "\n",
        "w = u + v\n",
        "print(\"The result tensor: \", w)"
      ]
    },
    {
      "cell_type": "markdown",
      "metadata": {
        "id": "NBORvaqLrkL8"
      },
      "source": [
        "The result is <code>tensor([1, 1])</code>. The behavior is <i>[1 + 0, 0 + 1]</i>.\n"
      ]
    },
    {
      "cell_type": "markdown",
      "metadata": {
        "id": "ERFkXmqTrkL8"
      },
      "source": [
        "Plot the result to to get a clearer picture.\n"
      ]
    },
    {
      "cell_type": "code",
      "execution_count": null,
      "metadata": {
        "id": "PDFaifA_rkL8"
      },
      "outputs": [],
      "source": [
        "# Plot u, v, w\n",
        "\n",
        "plotVec([\n",
        "    {\"vector\": u.numpy(), \"name\": 'u', \"color\": 'r'},\n",
        "    {\"vector\": v.numpy(), \"name\": 'v', \"color\": 'b'},\n",
        "    {\"vector\": w.numpy(), \"name\": 'w', \"color\": 'g'}\n",
        "])"
      ]
    },
    {
      "cell_type": "markdown",
      "metadata": {
        "id": "bg8hGuIorkL8"
      },
      "source": [
        "<!--Empty Space for separating topics-->\n"
      ]
    },
    {
      "cell_type": "markdown",
      "metadata": {
        "id": "4y7j0y9irkL8"
      },
      "source": [
        "<h3>Try</h3>\n"
      ]
    },
    {
      "cell_type": "markdown",
      "metadata": {
        "id": "tEO5_CRArkL8"
      },
      "source": [
        "Implement the tensor subtraction with <code>u</code> and <code>v</code> as u-v.\n"
      ]
    },
    {
      "cell_type": "code",
      "execution_count": null,
      "metadata": {
        "id": "ZPjg97rdrkL9"
      },
      "outputs": [],
      "source": [
        "# Try by yourself to get a result of u-v\n",
        "\n",
        "u = torch.tensor([1, 0])\n",
        "v = torch.tensor([0, 1])"
      ]
    },
    {
      "cell_type": "markdown",
      "metadata": {
        "id": "H5Lkar9SrkL9"
      },
      "source": [
        "Double-click <b>here</b> for the solution.\n",
        "<!--\n",
        "print(\"The result tensor: \", u-v)\n",
        "-->\n"
      ]
    },
    {
      "cell_type": "markdown",
      "metadata": {
        "id": "sbrOmTFgrkL9"
      },
      "source": [
        "Tensors must be of the same data type to perform addition as well as other operations.If you uncomment the  following code and try to run it you will get an error as the two tensors are of two different data types. **NOTE This lab was created on a older PyTorch version so in the current version we are using this is possible and will produce a float64 tensor.**\n"
      ]
    },
    {
      "cell_type": "code",
      "execution_count": null,
      "metadata": {
        "id": "QokoSb2jrkL9"
      },
      "outputs": [],
      "source": [
        "#torch.tensor([1,2,3],dtype=torch.int64)+torch.tensor([1,2,3],dtype=torch.float64)"
      ]
    },
    {
      "cell_type": "markdown",
      "metadata": {
        "id": "SK_qCNrfrkL9"
      },
      "source": [
        "<!--Empty Space for separating topics-->\n"
      ]
    },
    {
      "cell_type": "markdown",
      "metadata": {
        "id": "YyV8b1QUrkL9"
      },
      "source": [
        "You can add a scalar to the tensor. Use <code>u</code> as the sample tensor:\n"
      ]
    },
    {
      "cell_type": "code",
      "execution_count": null,
      "metadata": {
        "id": "u4kvdXJrrkL9"
      },
      "outputs": [],
      "source": [
        "# tensor + scalar\n",
        "\n",
        "u = torch.tensor([1, 2, 3, -1])\n",
        "v = u + 1\n",
        "print (\"Addition Result: \", v)"
      ]
    },
    {
      "cell_type": "markdown",
      "metadata": {
        "id": "4c8hWTE6rkL9"
      },
      "source": [
        "The result is simply adding 1 to each element in tensor <code>u</code> as shown in the following image:\n"
      ]
    },
    {
      "cell_type": "markdown",
      "metadata": {
        "id": "NYOhYTUwrkL9"
      },
      "source": [
        "<img src=\"https://s3-api.us-geo.objectstorage.softlayer.net/cf-courses-data/CognitiveClass/DL0110EN/notebook_images%20/chapter%201/brodcasting.gif\" width=\"500\" alt=\"tensor addition\">\n"
      ]
    },
    {
      "cell_type": "markdown",
      "metadata": {
        "id": "iLVZ0O7CrkL9"
      },
      "source": [
        "<!--Empty Space for separating topics-->\n"
      ]
    },
    {
      "cell_type": "markdown",
      "metadata": {
        "id": "JEgPr78mrkL9"
      },
      "source": [
        "<h3>Tensor Multiplication </h3>\n"
      ]
    },
    {
      "cell_type": "markdown",
      "metadata": {
        "id": "-xU2ROPDrkL-"
      },
      "source": [
        "Now, you'll review the multiplication between a tensor and a scalar.\n"
      ]
    },
    {
      "cell_type": "markdown",
      "metadata": {
        "id": "wFSUH7QVrkL-"
      },
      "source": [
        "Create a tensor with value <code>[1, 2]</code> and then multiply it by 2:\n"
      ]
    },
    {
      "cell_type": "code",
      "execution_count": null,
      "metadata": {
        "id": "wMNdhGtmrkL-"
      },
      "outputs": [],
      "source": [
        "# tensor * scalar\n",
        "\n",
        "u = torch.tensor([1, 2])\n",
        "v = 2 * u\n",
        "print(\"The result of 2 * u: \", v)"
      ]
    },
    {
      "cell_type": "markdown",
      "metadata": {
        "id": "ke4RZfzTrkL-"
      },
      "source": [
        "The result is <code>tensor([2, 4])</code>, so the code <code>2 * u</code> multiplies each element in the tensor by 2. This is how you get the product between a vector or matrix and a scalar in linear algebra.\n"
      ]
    },
    {
      "cell_type": "markdown",
      "metadata": {
        "id": "Jh4wtf79rkL-"
      },
      "source": [
        "<!--Empty Space for separating topics-->\n"
      ]
    },
    {
      "cell_type": "markdown",
      "metadata": {
        "id": "lWecz1gYrkL-"
      },
      "source": [
        "You can use multiplication between two tensors.\n"
      ]
    },
    {
      "cell_type": "markdown",
      "metadata": {
        "id": "TkR9jF88rkL-"
      },
      "source": [
        "Create two tensors <code>u</code> and <code>v</code> and then multiply them together:\n"
      ]
    },
    {
      "cell_type": "code",
      "execution_count": null,
      "metadata": {
        "id": "JlWvw2u4rkL-"
      },
      "outputs": [],
      "source": [
        "# tensor * tensor\n",
        "\n",
        "u = torch.tensor([1, 2])\n",
        "v = torch.tensor([3, 2])\n",
        "w = u * v\n",
        "print (\"The result of u * v\", w)"
      ]
    },
    {
      "cell_type": "markdown",
      "metadata": {
        "id": "l2RCChSdrkL-"
      },
      "source": [
        "The result is simply <code>tensor([3, 4])</code>. This result is achieved by multiplying every element in <code>u</code> with the corresponding element in the same position <code>v</code>, which is similar to <i>[1 * 3, 2 * 2]</i>.\n"
      ]
    },
    {
      "cell_type": "markdown",
      "metadata": {
        "id": "D_m8AMhKrkL_"
      },
      "source": [
        "<!--Empty Space for separating topics-->\n"
      ]
    },
    {
      "cell_type": "markdown",
      "metadata": {
        "id": "r8iM69H2rkL_"
      },
      "source": [
        "<h3>Dot Product</h3>\n"
      ]
    },
    {
      "cell_type": "markdown",
      "metadata": {
        "id": "tEtBceeorkL_"
      },
      "source": [
        "The dot product is a special operation for a vector that you can use in Torch.\n"
      ]
    },
    {
      "cell_type": "markdown",
      "metadata": {
        "id": "UWnc9sQOrkL_"
      },
      "source": [
        "Here is the dot product of the two tensors <code>u</code> and <code>v</code>:\n"
      ]
    },
    {
      "cell_type": "code",
      "execution_count": null,
      "metadata": {
        "id": "X4U-v5aZrkL_"
      },
      "outputs": [],
      "source": [
        "# Calculate dot product of u, v\n",
        "\n",
        "u = torch.tensor([1, 2])\n",
        "v = torch.tensor([3, 2])\n",
        "\n",
        "print(\"Dot Product of u, v:\", torch.dot(u,v))"
      ]
    },
    {
      "cell_type": "markdown",
      "metadata": {
        "id": "YIEn9S8drkL_"
      },
      "source": [
        "The result is <code>tensor(7)</code>. The function is <i>1 x 3 + 2 x 2 = 7</i>.\n"
      ]
    },
    {
      "cell_type": "markdown",
      "metadata": {
        "id": "OStmOwsirkL_"
      },
      "source": [
        "<!--Empty Space for separating topics-->\n"
      ]
    },
    {
      "cell_type": "markdown",
      "metadata": {
        "id": "z7CmvQFjrkL_"
      },
      "source": [
        "<h3>Practice</h3>\n"
      ]
    },
    {
      "cell_type": "markdown",
      "metadata": {
        "id": "Fwz_IwV_rkL_"
      },
      "source": [
        "Convert the list <i>[-1, 1]</i> and <i>[1, 1]</i> to tensors <code>u</code> and <code>v</code>. Then, plot the tensor <code>u</code> and <code>v</code> as a vector by using the function <code>plotVec</code> and find the dot product:\n"
      ]
    },
    {
      "cell_type": "code",
      "execution_count": null,
      "metadata": {
        "id": "eFBeAS_yrkL_"
      },
      "outputs": [],
      "source": [
        "# Practice: calculate the dot product of u and v, and plot out two vectors\n",
        "\n",
        "# Type your code here"
      ]
    },
    {
      "cell_type": "markdown",
      "metadata": {
        "id": "4CYxDjvwrkL_"
      },
      "source": [
        "Double-click <b>here</b> for the solution.\n",
        "<!--\n",
        "u= torch.tensor([-1, 1])\n",
        "v= torch.tensor([1, 1])\n",
        "plotVec([\n",
        "    {\"vector\": u.numpy(), \"name\": 'u', \"color\": 'r'},\n",
        "    {\"vector\": v.numpy(), \"name\": 'v', \"color\": 'b'}\n",
        "])\n",
        "print(\"The Dot Product is\",np.dot(u, v))\n",
        " -->\n"
      ]
    },
    {
      "cell_type": "markdown",
      "metadata": {
        "id": "0Brs1pgsrkL_"
      },
      "source": [
        "<!--Empty Space for separating topics-->\n"
      ]
    },
    {
      "cell_type": "markdown",
      "metadata": {
        "id": "xPzPCXNErkMA"
      },
      "source": [
        "See <a href=\"https://docs.scipy.org/doc/numpy-1.13.0/user/basics.broadcasting.html\">Broadcasting</a> for more information on numpy that is similar to PyTorch.\n"
      ]
    },
    {
      "cell_type": "markdown",
      "metadata": {
        "id": "BzbfUhsMrkMA"
      },
      "source": [
        "<a href=\"https://dataplatform.cloud.ibm.com/registration/stepone?utm_source=skills_network&utm_content=in_lab_content_link&utm_id=Lab-IBMDeveloperSkillsNetwork-DL0110EN-SkillsNetwork&context=cpdaas&apps=data_science_experience%2Cwatson_machine_learning\"><img src=\"https://cf-courses-data.s3.us.cloud-object-storage.appdomain.cloud/IBMDeveloperSkillsNetwork-DL0110EN-SkillsNetwork/Template/module%201/images/Watson_Studio.png\"></a>\n"
      ]
    },
    {
      "cell_type": "markdown",
      "metadata": {
        "id": "UUm74kU7rkMA"
      },
      "source": [
        "<h2>About the Authors:</h2>\n",
        "\n",
        "<a href=\"https://www.linkedin.com/in/joseph-s-50398b136/\">Joseph Santarcangelo</a> has a PhD in Electrical Engineering, his research focused on using machine learning, signal processing, and computer vision to determine how videos impact human cognition. Joseph has been working for IBM since he completed his PhD.\n"
      ]
    },
    {
      "cell_type": "markdown",
      "metadata": {
        "id": "ziIbHGSarkMA"
      },
      "source": [
        "Other contributors: <a href=\"https://www.linkedin.com/in/michelleccarey/\">Michelle Carey</a>, <a href=\"www.linkedin.com/in/jiahui-mavis-zhou-a4537814a\">Mavis Zhou</a>\n"
      ]
    },
    {
      "cell_type": "markdown",
      "metadata": {
        "id": "S4OW0xG_rkMA"
      },
      "source": [
        "<!--\n",
        "## Change Log\n",
        "\n",
        "|  Date (YYYY-MM-DD) |  Version | Changed By  |  Change Description |\n",
        "|---|---|---|---|\n",
        "| 2020-09-21  | 2.0  | Shubham  |  Migrated Lab to Markdown and added to course repo in GitLab |\n",
        "\n",
        "-->\n"
      ]
    },
    {
      "cell_type": "markdown",
      "metadata": {
        "id": "WvHoALjjrkMA"
      },
      "source": [
        "<hr>\n"
      ]
    },
    {
      "cell_type": "markdown",
      "metadata": {
        "id": "c31YMdVmrkMA"
      },
      "source": [
        "## <h3 align=\"center\"> &#169; IBM Corporation. All rights reserved. <h3/>\n"
      ]
    }
  ],
  "metadata": {
    "kernelspec": {
      "display_name": "Python",
      "language": "python",
      "name": "conda-env-python-py"
    },
    "language_info": {
      "codemirror_mode": {
        "name": "ipython",
        "version": 3
      },
      "file_extension": ".py",
      "mimetype": "text/x-python",
      "name": "python",
      "nbconvert_exporter": "python",
      "pygments_lexer": "ipython3",
      "version": "3.7.12"
    },
    "colab": {
      "provenance": [],
      "include_colab_link": true
    }
  },
  "nbformat": 4,
  "nbformat_minor": 0
}